{
 "cells": [
  {
   "cell_type": "markdown",
   "id": "109a7eef",
   "metadata": {},
   "source": [
    ">__1. What is the name of the feature responsible for generating Regex objects?__"
   ]
  },
  {
   "cell_type": "markdown",
   "id": "d27b1253",
   "metadata": {},
   "source": [
    "Ans.  The re. compile() function returns Regex objects."
   ]
  },
  {
   "cell_type": "markdown",
   "id": "e298e1d8",
   "metadata": {},
   "source": [
    ">__2. Why do raw strings often appear in Regex objects?__"
   ]
  },
  {
   "cell_type": "markdown",
   "id": "d2b53a5d",
   "metadata": {},
   "source": [
    "Ans.  Raw strings are used so that backslashes do not have to be escaped"
   ]
  },
  {
   "cell_type": "markdown",
   "id": "ad998702",
   "metadata": {},
   "source": [
    ">__3. What is the return value of the search() method?__"
   ]
  },
  {
   "cell_type": "markdown",
   "id": "9ec042c7",
   "metadata": {},
   "source": [
    "Ans.  The search() method returns -1 if no match is found."
   ]
  },
  {
   "cell_type": "markdown",
   "id": "8be73780",
   "metadata": {},
   "source": [
    ">__4. From a Match item, how do you get the actual strings that match the pattern?__"
   ]
  },
  {
   "cell_type": "markdown",
   "id": "c0a7bd3e",
   "metadata": {},
   "source": [
    "Ans.  he group() method returns strings of the matched text."
   ]
  },
  {
   "cell_type": "markdown",
   "id": "ec4a1532",
   "metadata": {},
   "source": [
    ">__5. In the regex which created from the r'(\\d\\d\\d)-(\\d\\d\\d-\\d\\d\\d\\d)', what does group zero cover? Group 2? Group 1?__"
   ]
  },
  {
   "cell_type": "markdown",
   "id": "6df32e45",
   "metadata": {},
   "source": [
    "Ans.  Group 0 is the entire match, group 1 covers the first set of parentheses, and group 2 covers the second set of parentheses."
   ]
  },
  {
   "cell_type": "markdown",
   "id": "1429ce59",
   "metadata": {},
   "source": [
    ">__6. In standard expression syntax, parentheses and intervals have distinct meanings. How can you tell a regex that you want it to fit real parentheses and periods?__"
   ]
  },
  {
   "cell_type": "markdown",
   "id": "7e785940",
   "metadata": {},
   "source": [
    "Ans.  Periods and parentheses can be escaped with a backslash: \\., \\(, and \\)."
   ]
  },
  {
   "cell_type": "markdown",
   "id": "561454f7",
   "metadata": {},
   "source": [
    ">__7. The findall() method returns a string list or a list of string tuples. What causes it to return one of the two options?__"
   ]
  },
  {
   "cell_type": "markdown",
   "id": "28e4cb71",
   "metadata": {},
   "source": [
    "Ans.  If the regex has no groups, a list of strings is returned. If the regex has groups, a list of tuples of strings is returned."
   ]
  },
  {
   "cell_type": "markdown",
   "id": "932b11ab",
   "metadata": {},
   "source": [
    ">__8. In standard expressions, what does the | character mean?__"
   ]
  },
  {
   "cell_type": "markdown",
   "id": "61fdd342",
   "metadata": {},
   "source": [
    "Ans.  The | character signifies matching \"either, or\" between two groups."
   ]
  },
  {
   "cell_type": "markdown",
   "id": "7ad4c140",
   "metadata": {},
   "source": [
    ">__9. In regular expressions, what does the character stand for?__"
   ]
  },
  {
   "cell_type": "markdown",
   "id": "f9d4e433",
   "metadata": {},
   "source": [
    "Ans.  The ? character can either mean \"match zero or one of the preceding group\" or be used to signify nongreedy matching."
   ]
  },
  {
   "cell_type": "markdown",
   "id": "edbf7a8a",
   "metadata": {},
   "source": [
    ">__10.In regular expressions, what is the difference between the + and * characters?__"
   ]
  },
  {
   "cell_type": "markdown",
   "id": "eb538829",
   "metadata": {},
   "source": [
    "Ans.  The + matches one or more. The * matches zero or more."
   ]
  },
  {
   "cell_type": "markdown",
   "id": "547b3942",
   "metadata": {},
   "source": [
    ">__11. What is the difference between {4} and {4,5} in regular expression?__"
   ]
  },
  {
   "cell_type": "markdown",
   "id": "78d36cc9",
   "metadata": {},
   "source": [
    "Ans. The {4} matches exactly four instances of the preceding group. The {4,5} matches between four and five instances."
   ]
  },
  {
   "cell_type": "markdown",
   "id": "8c964ef7",
   "metadata": {},
   "source": [
    ">__12. What do you mean by the \\d, \\w, and \\s shorthand character classes signify in regular expressions?__"
   ]
  },
  {
   "cell_type": "markdown",
   "id": "385f35f6",
   "metadata": {},
   "source": [
    "Ans.  The \\d, \\w, and \\s shorthand character classes match a single digit, word, or space character, respectively."
   ]
  },
  {
   "cell_type": "markdown",
   "id": "3b7a90b4",
   "metadata": {},
   "source": [
    ">__13. What do means by \\D, \\W, and \\S shorthand character classes signify in regular expressions?__"
   ]
  },
  {
   "cell_type": "markdown",
   "id": "8d49d17b",
   "metadata": {},
   "source": [
    "Ans.  The \\D, \\W, and \\S shorthand character classes match a single character that is not a digit, word, or space character, respectively."
   ]
  },
  {
   "cell_type": "markdown",
   "id": "871f92ec",
   "metadata": {},
   "source": [
    ">__14. What is the difference between .*? and .*?__"
   ]
  },
  {
   "cell_type": "markdown",
   "id": "6d0ba6bd",
   "metadata": {},
   "source": [
    "Ans.  The . performs a greedy match, and the .? performs a nongreedy match."
   ]
  },
  {
   "cell_type": "markdown",
   "id": "1fd6b26b",
   "metadata": {},
   "source": [
    ">__15. What is the syntax for matching both numbers and lowercase letters with a character class?__"
   ]
  },
  {
   "cell_type": "markdown",
   "id": "a7f34dde",
   "metadata": {},
   "source": [
    "Ans.  Either [0-9a-z] or [a-z0-9]"
   ]
  },
  {
   "cell_type": "markdown",
   "id": "3aac48bb",
   "metadata": {},
   "source": [
    ">__16. What is the procedure for making a normal expression in regax case insensitive?__"
   ]
  },
  {
   "cell_type": "markdown",
   "id": "4f4abd62",
   "metadata": {},
   "source": [
    "Ans.  There are two ways to make Regular Expression case-insensitive:\n",
    "* Using CASE_INSENSITIVE flag.\n",
    "* Using modifier."
   ]
  },
  {
   "cell_type": "markdown",
   "id": "7519b00b",
   "metadata": {},
   "source": [
    ">__17. What does the . character normally match? What does it match if re.DOTALL is passed as 2nd argument in re.compile()?__"
   ]
  },
  {
   "cell_type": "markdown",
   "id": "b347cdb5",
   "metadata": {},
   "source": [
    "Ans.  The . character normally matches any character except the newline character. If re.DOTALL is passed as the second argument to re.compile(), then the dot will also match newline characters."
   ]
  },
  {
   "cell_type": "markdown",
   "id": "b6c1dc4f",
   "metadata": {},
   "source": [
    ">__18. If numRegex = re.compile(r'\\d+'), what will numRegex.sub('X', '11 drummers, 10 pipers, five rings, 4 hen') return?__"
   ]
  },
  {
   "cell_type": "code",
   "execution_count": 11,
   "id": "c70e9af2",
   "metadata": {},
   "outputs": [
    {
     "data": {
      "text/plain": [
       "'X drummers, X pipers, five rings, X hen'"
      ]
     },
     "execution_count": 11,
     "metadata": {},
     "output_type": "execute_result"
    }
   ],
   "source": [
    "import re\n",
    "numRegex = re.compile(r'\\d+')\n",
    "numRegex.sub('X', '11 drummers, 10 pipers, five rings, 4 hen') "
   ]
  },
  {
   "cell_type": "markdown",
   "id": "75d1d3b0",
   "metadata": {},
   "source": [
    ">__19. What does passing re.VERBOSE as the 2nd argument to re.compile() allow to do?__"
   ]
  },
  {
   "cell_type": "markdown",
   "id": "acf5ad84",
   "metadata": {},
   "source": [
    "Ans.  The re.VERBOSE argument allows you to add whitespace and comments to the string passed to re.compile()."
   ]
  },
  {
   "cell_type": "markdown",
   "id": "1fd43988",
   "metadata": {},
   "source": [
    ">__20. How would you write a regex that match a number with comma for every three digits? It must match the given following:__\n",
    "* '42'\n",
    "* '1,234'\n",
    "* '6,368,745'\n",
    "* but not the following:\n",
    "* '12,34,567' (which has only two digits between the commas)\n",
    "* '1234' (which lacks commas)\n"
   ]
  },
  {
   "cell_type": "markdown",
   "id": "860778a4",
   "metadata": {},
   "source": [
    "Ans.  re.compile(r'^\\d{1,3}(,\\d{3})*$') will create this regex, but other regex strings can produce a similar regular expression."
   ]
  },
  {
   "cell_type": "markdown",
   "id": "6b72c9cb",
   "metadata": {},
   "source": [
    ">__21. How would you write a regex that matches the full name of someone whose last name is Watanabe? You can assume that the first name that comes before it will always be one word that begins with a capital letter. The regex must match the following:__\n",
    "* 'Haruto Watanabe'\n",
    "* 'Alice Watanabe'\n",
    "* 'RoboCop Watanabe' <br>\n",
    "\n",
    "__but not the following:__\n",
    "* 'haruto Watanabe' (where the first name is not capitalized)\n",
    "* 'Mr. Watanabe' (where the preceding word has a nonletter character)\n",
    "* 'Watanabe' (which has no first name)\n",
    "* 'Haruto watanabe' (where Watanabe is not capitalized)\n"
   ]
  },
  {
   "cell_type": "markdown",
   "id": "021be4be",
   "metadata": {},
   "source": [
    "Ans.  re.compile(r'[A-Z][a-z]*\\sWatanabe')"
   ]
  },
  {
   "cell_type": "markdown",
   "id": "8890a249",
   "metadata": {},
   "source": [
    ">__22. How would you write a regex that matches a sentence where the first word is either Alice, Bob, or Carol; the second word is either eats, pets, or throws; the third word is apples, cats, or baseballs; and the sentence ends with a period? This regex should be case-insensitive. It must match the following:__\n",
    "* 'Alice eats apples.'\n",
    "* 'Bob pets cats.'\n",
    "* 'Carol throws baseballs.'\n",
    "* 'Alice throws Apples.'\n",
    "* 'BOB EATS CATS.' <br>\n",
    "\n",
    "__but not the following:__\n",
    "* 'RoboCop eats apples.'\n",
    "* 'ALICE THROWS FOOTBALLS.'\n",
    "* 'Carol eats 7 cats.'\n"
   ]
  },
  {
   "cell_type": "markdown",
   "id": "5187b6ac",
   "metadata": {},
   "source": [
    "Ans.  re.compile(r'(Alice|Bob|Carol)\\s(eats|pets|throws)\\s(apples|cats|baseballs)\\.', re.IGNORECASE)"
   ]
  }
 ],
 "metadata": {
  "kernelspec": {
   "display_name": "Python 3",
   "language": "python",
   "name": "python3"
  },
  "language_info": {
   "codemirror_mode": {
    "name": "ipython",
    "version": 3
   },
   "file_extension": ".py",
   "mimetype": "text/x-python",
   "name": "python",
   "nbconvert_exporter": "python",
   "pygments_lexer": "ipython3",
   "version": "3.8.8"
  }
 },
 "nbformat": 4,
 "nbformat_minor": 5
}
